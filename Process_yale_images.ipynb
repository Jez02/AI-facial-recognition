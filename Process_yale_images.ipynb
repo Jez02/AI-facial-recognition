{
  "cells": [
    {
      "cell_type": "markdown",
      "metadata": {
        "id": "FAVP8Znm-5Dt"
      },
      "source": [
        "\n",
        "1.   To connect this notebook to Google Drive, run the code below.\n",
        "2.   A link will appear\n",
        "3.   Click the link and sign in to your Google account\n",
        "4.   You will obtain an access code which needs to be copied and pasted into the input field below\n",
        "5.   Press Enter"
      ]
    },
    {
      "cell_type": "code",
      "execution_count": null,
      "metadata": {
        "id": "REBbH4Yk_A3n",
        "colab": {
          "base_uri": "https://localhost:8080/"
        },
        "outputId": "6cc6a6c6-0b11-4426-c872-131e2a269ee7"
      },
      "outputs": [
        {
          "output_type": "stream",
          "name": "stdout",
          "text": [
            "Mounted at /content/drive\n"
          ]
        }
      ],
      "source": [
        "from google.colab import drive # loads a library to mount your google drive\n",
        "drive.mount('/content/drive')"
      ]
    },
    {
      "cell_type": "code",
      "execution_count": null,
      "metadata": {
        "id": "Klqqlqlk_xlT",
        "colab": {
          "base_uri": "https://localhost:8080/"
        },
        "outputId": "e8a74b3e-60ff-4e15-c358-6286e49cb02e"
      },
      "outputs": [
        {
          "output_type": "stream",
          "name": "stdout",
          "text": [
            "'Colab Notebooks'\t\t     \"Jez Cobo's cover letter .gdoc\"  'Untitled document (1).gdoc'\n",
            "'Copy of classify_yale.ipynb'\t     'Personal statment.gdoc'\t      'Untitled document (2).gdoc'\n",
            "'Copy of process_yale_images.ipynb'   Tr0\t\t\t      'Untitled document.gdoc'\n",
            " CV\t\t\t\t      Tr0.zip\t\t\t      'Untitled folder'\n",
            "'Getting started.pdf'\t\t      uni\t\t\t       yaleExtB_data.npy\n",
            "'Jez Cobo CV.gdoc'\t\t      Untitled0.ipynb\t\t       yaleExtB_target.npy\n"
          ]
        }
      ],
      "source": [
        "!ls \"/content/drive/My Drive/\" # shows all files in your google drive root, including the project data file Tr0\n",
        "path = \"/content/drive/My Drive/\" # sets the path to the root with the file Tr0"
      ]
    },
    {
      "cell_type": "markdown",
      "metadata": {
        "id": "EyuvO71yAecz"
      },
      "source": [
        "Unzip the images:"
      ]
    },
    {
      "cell_type": "code",
      "execution_count": null,
      "metadata": {
        "id": "HghjlZYOBWWu"
      },
      "outputs": [],
      "source": [
        "import os     # loads a library to work with data files\n",
        "os.chdir(path)\n",
        "dnam = 'Tr0'\n",
        "!unzip -q {dnam} # unzups the project file Tr0"
      ]
    },
    {
      "cell_type": "markdown",
      "metadata": {
        "id": "eOKnvQw-XP5f"
      },
      "source": []
    },
    {
      "cell_type": "markdown",
      "metadata": {
        "id": "n1D37E98FShO"
      },
      "source": [
        "Make a list of all images in the directory."
      ]
    },
    {
      "cell_type": "code",
      "execution_count": null,
      "metadata": {
        "id": "8bwQb2k8FV68",
        "colab": {
          "base_uri": "https://localhost:8080/"
        },
        "outputId": "f027d639-a022-4d51-d2e9-b9f3a4e6d5a1"
      },
      "outputs": [
        {
          "output_type": "stream",
          "name": "stdout",
          "text": [
            "Number of images 1500\n"
          ]
        }
      ],
      "source": [
        "from os import listdir # loads a library to work with directories\n",
        "fls = listdir(path + dnam) # creates a list of all image files\n",
        "n = len(fls) # the number of the image files\n",
        "print('Number of images %i' % n)"
      ]
    },
    {
      "cell_type": "markdown",
      "metadata": {
        "id": "EFCynGy8F_Zb"
      },
      "source": [
        " Load and display 1st image using Matplotlib"
      ]
    },
    {
      "cell_type": "code",
      "execution_count": null,
      "metadata": {
        "id": "HB8yeiSPGHXS",
        "colab": {
          "base_uri": "https://localhost:8080/",
          "height": 451
        },
        "outputId": "d53dcedf-215a-4451-d574-b04265a3abe2"
      },
      "outputs": [
        {
          "output_type": "stream",
          "name": "stdout",
          "text": [
            "(77, 68)\n"
          ]
        },
        {
          "output_type": "display_data",
          "data": {
            "text/plain": [
              "<Figure size 640x480 with 1 Axes>"
            ],
            "image/png": "[encoded data removed]"
          },
          "metadata": {}
        }
      ],
      "source": [
        "from matplotlib import image # loads a library to work with images\n",
        "from matplotlib import pyplot # loads a library to plot images\n",
        "im1 = image.imread(path + dnam + '/' + fls[6]) # chooses 1st image from the image list\n",
        "print(im1.shape) # prints the size in pixels of the chosen image\n",
        "pyplot.imshow(im1, cmap=pyplot.cm.gray) # displays the image\n",
        "pyplot.show()"
      ]
    },
    {
      "cell_type": "markdown",
      "metadata": {
        "id": "4Xh3KQ8GZNMn"
      },
      "source": [
        "Create the data and target for training an ANN. The data will be a matrix of n=1500 rows and h*w columns, where n is the number of images, h=77 and w=68 are the height and width of an image in pixels. The target will be a nx1 matrix."
      ]
    },
    {
      "cell_type": "code",
      "execution_count": null,
      "metadata": {
        "id": "aBuoQCynGHfy"
      },
      "outputs": [],
      "source": [
        "import numpy as np  # loads a library for working with matrixes\n",
        "m=im1.shape[0]*im1.shape[1]  # m = h*w = (77*68=5236) is the number of pixels in images\n",
        "images_data = np.zeros((n, m)) # creates a nxm-matrix of the images\n",
        "images_target = np.zeros((n,))  # creates a n*1 matrix of targets which are the person labels 1 tp 30\n",
        "# loops over all n=1500 images\n",
        "for i in range(0, n):\n",
        "  filename = fls[i]  # loads a name of the image file\n",
        "  img = image.imread(path + dnam + '/' + filename) # loads the image name\n",
        "  images_data[i,:] = np.ravel(img) # vectorisation of the image\n",
        "  c = int(filename[5:7])  # extracts the class label from the file name\n",
        "  images_target[i] = c  # assigns the target\n",
        "  #if i % 10 == 0:\n",
        "  #  print('> loaded %s %s %s' % (i, filename, c)) # prints the image name"
      ]
    },
    {
      "cell_type": "markdown",
      "metadata": {
        "id": "22YCdWm8JcFb"
      },
      "source": [
        "Save the data and target on Google drive as .npy files."
      ]
    },
    {
      "cell_type": "code",
      "execution_count": null,
      "metadata": {
        "id": "1bKAlBRNJdSG"
      },
      "outputs": [],
      "source": [
        "from numpy import asarray # loads a library for saving matrices\n",
        "from numpy import save\n",
        "# save as a .npy file\n",
        "fn = (path + '/' + 'yaleExtB_data.npy') # creates the file name for the image data\n",
        "save(fn, images_data)\n",
        "fn = (path + '/' + 'yaleExtB_target.npy') # creates the file name for the targets\n",
        "save(fn, images_target)\n"
      ]
    },
    {
      "cell_type": "code",
      "execution_count": null,
      "metadata": {
        "id": "zO2SvR6w5ZQw",
        "colab": {
          "base_uri": "https://localhost:8080/"
        },
        "outputId": "0fd36ab8-cb96-4605-f64a-a731b3b62e41"
      },
      "outputs": [
        {
          "output_type": "stream",
          "name": "stdout",
          "text": [
            "'Colab Notebooks'\t\t     \"Jez Cobo's cover letter .gdoc\"  'Untitled document (1).gdoc'\n",
            "'Copy of classify_yale.ipynb'\t     'Personal statment.gdoc'\t      'Untitled document (2).gdoc'\n",
            "'Copy of process_yale_images.ipynb'   Tr0\t\t\t      'Untitled document.gdoc'\n",
            " CV\t\t\t\t      Tr0.zip\t\t\t      'Untitled folder'\n",
            "'Getting started.pdf'\t\t      uni\t\t\t       yaleExtB_data.npy\n",
            "'Jez Cobo CV.gdoc'\t\t      Untitled0.ipynb\t\t       yaleExtB_target.npy\n"
          ]
        }
      ],
      "source": [
        "# shows the files in the root, including 2 files *.npy\n",
        "!ls \"/content/drive/My Drive/\"\n"
      ]
    }
  ],
  "metadata": {
    "colab": {
      "provenance": []
    },
    "kernelspec": {
      "display_name": "Python 3",
      "name": "python3"
    }
  },
  "nbformat": 4,
  "nbformat_minor": 0
}